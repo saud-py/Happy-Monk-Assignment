{
  "nbformat": 4,
  "nbformat_minor": 0,
  "metadata": {
    "colab": {
      "provenance": [],
      "authorship_tag": "ABX9TyNEYIB1Y7I1n26rlkuaGKxR",
      "include_colab_link": true
    },
    "kernelspec": {
      "name": "python3",
      "display_name": "Python 3"
    },
    "language_info": {
      "name": "python"
    }
  },
  "cells": [
    {
      "cell_type": "markdown",
      "metadata": {
        "id": "view-in-github",
        "colab_type": "text"
      },
      "source": [
        "<a href=\"https://colab.research.google.com/github/saud-py/Happy-Monk-Assignment/blob/main/Happy_Monk_Assignment.ipynb\" target=\"_parent\"><img src=\"https://colab.research.google.com/assets/colab-badge.svg\" alt=\"Open In Colab\"/></a>"
      ]
    },
    {
      "cell_type": "markdown",
      "source": [
        "#Happy Monk Assignment for Data Engineer Internship \n",
        "\n",
        "Below are the following task to be completed"
      ],
      "metadata": {
        "id": "uG4Gp_Z1jM-R"
      }
    },
    {
      "cell_type": "markdown",
      "source": [
        "1. Write a program in Python to find the sum of digits of a number using recursion?"
      ],
      "metadata": {
        "id": "Ybx85HiJjzWk"
      }
    },
    {
      "cell_type": "code",
      "execution_count": null,
      "metadata": {
        "colab": {
          "base_uri": "https://localhost:8080/"
        },
        "id": "n1HI0PKojFbT",
        "outputId": "5a7144ac-739d-497f-f117-bf37790c0a8d"
      },
      "outputs": [
        {
          "output_type": "stream",
          "name": "stdout",
          "text": [
            "Enter a number:92859825789274985\n",
            "The sum of digits 92859825789274985 is 107\n"
          ]
        }
      ],
      "source": [
        "#We first define a function, where in we pass a parameter as integer input\n",
        "\n",
        "def sum(number):\n",
        "  if number == 0:\n",
        "    return 0 #if the input is 0 then return  the sum as 0\n",
        "  else:\n",
        "    return number % 10 + sum(number // 10) #\n",
        "\n",
        "number = int(input(\"Enter a number:\"))\n",
        "print(\"The sum of digits\", number, \"is\", sum(number))"
      ]
    },
    {
      "cell_type": "markdown",
      "source": [
        "2. Write a program in Python to swap two numbers without using a third variable?"
      ],
      "metadata": {
        "id": "vTNDdyrDnbgH"
      }
    },
    {
      "cell_type": "code",
      "source": [
        "#Considering 2 variables a and b to perform swapping \n",
        "\n",
        "a = int((input(\" Enter the value for a: \" )))\n",
        "b = int((input(\" Enter the value for b: \" )))\n",
        "\n",
        "print(\"Before swapping : a = \", a, \", b = \", b)\n",
        "\n",
        "a = a + b  #We sum the variable values of a and b\n",
        "b = a - b  #Then we take the sum of and then subtract it with b\n",
        "a = a - b  #And the subtracted value of b is again subtracted with a\n",
        "\n",
        "print(\"After swapping: a = \", a, \", b = \", b)"
      ],
      "metadata": {
        "colab": {
          "base_uri": "https://localhost:8080/"
        },
        "id": "imvI3rwrnf2Q",
        "outputId": "49d63046-f69e-428b-8540-d0cef87d462f"
      },
      "execution_count": null,
      "outputs": [
        {
          "output_type": "stream",
          "name": "stdout",
          "text": [
            " Enter the value for a: 5\n",
            " Enter the value for b: 7\n",
            "Before swapping : a =  5 , b =  7\n",
            "After swapping: a =  7 , b =  5\n"
          ]
        }
      ]
    },
    {
      "cell_type": "markdown",
      "source": [
        "3. Python Program to count occurrences of a character in below string and create a dictionary with keys as\n",
        "letters and values as count of occurrences of that letter."
      ],
      "metadata": {
        "id": "VRoZZGK-pvEC"
      }
    },
    {
      "cell_type": "code",
      "source": [
        "#Below is the provided string\n",
        "\n",
        "string = \"fhdflshbfslkhfbslkfbhslfjhbsdvsJKBEFWEGWUYRTWGRUWOFWGEUIFBWDFWDBFHWJDVFHJKasdwtuknfiitngjt75378595hf75hr74h\"\n",
        "\n",
        "#We first initialize a empty dictionary for storing the occurances of each character\n",
        "dict = {}\n",
        "\n",
        "#We will be iterating through all the character in the string\n",
        "for chr in string:\n",
        "\n",
        "#If the character is present in the dictionary, then it will increment\n",
        "  if chr in dict:\n",
        "    dict[chr] += 1\n",
        "#If the character is not present in the dictionary, then it will assign the value to 1\n",
        "  else:\n",
        "    dict[chr] = 1\n",
        "\n",
        "print(\"Dictionary of character counts\")\n",
        "print(dict)"
      ],
      "metadata": {
        "colab": {
          "base_uri": "https://localhost:8080/"
        },
        "id": "OQhWWHnPsex9",
        "outputId": "e4913d29-90cd-4c10-fb8c-a8a6427f0f52"
      },
      "execution_count": null,
      "outputs": [
        {
          "output_type": "stream",
          "name": "stdout",
          "text": [
            "Dictionary of character counts\n",
            "{'f': 8, 'h': 8, 'd': 3, 'l': 4, 's': 7, 'b': 4, 'k': 3, 'j': 2, 'v': 1, 'J': 3, 'K': 2, 'B': 3, 'E': 3, 'F': 6, 'W': 8, 'G': 3, 'U': 3, 'Y': 1, 'R': 2, 'T': 1, 'O': 1, 'I': 1, 'D': 3, 'H': 2, 'V': 1, 'a': 1, 'w': 1, 't': 3, 'u': 1, 'n': 2, 'i': 2, 'g': 1, '7': 4, '5': 4, '3': 1, '8': 1, '9': 1, 'r': 1, '4': 1}\n"
          ]
        }
      ]
    },
    {
      "cell_type": "markdown",
      "source": [
        "4. Write a python program to find the transpose of an image without any inbuilt functions or packages."
      ],
      "metadata": {
        "id": "_-6IPioau82v"
      }
    },
    {
      "cell_type": "code",
      "source": [
        "#We import library for image processing \n",
        "from PIL import Image\n",
        "\n",
        "#Opening of the image \n",
        "image = Image.open(\"ANN.png\")\n",
        "\n",
        "#Retriving the dimensions of the image\n",
        "width, height = image.size\n",
        "\n",
        "#Initial step of transposing creating a new image with height and widht swapped\n",
        "transpo_image = Image.new(image.mode, (height, width))\n",
        "\n",
        "#Iterating through each pixel present in the image and transforming to transposing to a image\n",
        "for x in range(width):\n",
        "  for y in range(height):\n",
        "    transpo_image.putpixel((y, x), image.getpixel((x, y)))\n",
        "\n",
        "#Saving the transposed image\n",
        "transpo_image.save(\"Transpose_image.png\")"
      ],
      "metadata": {
        "id": "EriTAMU0uSt6"
      },
      "execution_count": null,
      "outputs": []
    },
    {
      "cell_type": "markdown",
      "source": [
        "5. Hacker Question about List Comprehensions using Python "
      ],
      "metadata": {
        "id": "bJ1sB9IOzGB2"
      }
    },
    {
      "cell_type": "code",
      "source": [
        "if __name__ == '__main__':\n",
        "    x = int(input())\n",
        "    y = int(input())\n",
        "    z = int(input())\n",
        "    n = int(input())\n",
        "    print(list([i, j, k] for i in range(x + 1) for j in range (y + 1) for k in range (z + 1) if i+j+k != n))\n"
      ],
      "metadata": {
        "id": "7EtOEPi7zFnT"
      },
      "execution_count": null,
      "outputs": []
    },
    {
      "cell_type": "markdown",
      "source": [
        "6. variable=[\"Bus\", \"car\", {\"Bus\":[\"car\",\"bus\", {\"car\":\"bus\", \"Car\":[\"bus\", \"car\", [\"BMW\"]],\n",
        "},\"Bus\"]},\"Bus\"]\n",
        "\n",
        "print BMW as string input"
      ],
      "metadata": {
        "id": "0LwIYGybxEjE"
      }
    },
    {
      "cell_type": "code",
      "source": [
        "variable=[\"Bus\", \"car\", {\"Bus\":[\"car\", \"bus\", {\"car\":\"bus\", \"Car\":[\"bus\", \"car\", [\"BMW\"]], },\"Bus\"]},\"Bus\"]\n",
        "\n",
        "# Access the nested list and dictionary to retrieve the string \"BMW\"\n",
        "bmw_string = variable[2][\"Bus\"][2][\"Car\"][2][0]\n",
        "\n",
        "# Print the string \"BMW\"\n",
        "print(bmw_string)"
      ],
      "metadata": {
        "colab": {
          "base_uri": "https://localhost:8080/"
        },
        "id": "Blwcz4rJxLkJ",
        "outputId": "0a2545fb-81a1-472b-9138-86cee8c24147"
      },
      "execution_count": null,
      "outputs": [
        {
          "output_type": "stream",
          "name": "stdout",
          "text": [
            "BMW\n"
          ]
        }
      ]
    }
  ]
}